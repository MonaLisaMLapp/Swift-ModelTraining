{
  "nbformat": 4,
  "nbformat_minor": 0,
  "metadata": {
    "colab": {
      "provenance": []
    },
    "kernelspec": {
      "name": "python3",
      "display_name": "Python 3"
    },
    "language_info": {
      "name": "python"
    }
  },
  "cells": [
    {
      "cell_type": "code",
      "source": [
        "!pip install coremltools\n",
        "!pip install scikit-learn==1.1.2\n",
        "!pip install xgboost==1.4.2\n",
        "!pip install tensorflow==2.12.0\n",
        "!pip install torch==2.2.0\n",
        "\n",
        "number_of_dimensions = 128\n",
        "\n",
        "import coremltools.models.nearest_neighbors as ct\n",
        "\n",
        "builder = ct.KNearestNeighborsClassifierBuilder(input_name='input',\n",
        "\t\t\t\t output_name='output',\n",
        "\t\t\t\t number_of_dimensions=number_of_dimensions,\n",
        "\t\t\t\t default_class_label='defaultLabel',\n",
        "\t\t\t\t number_of_neighbors=3,\n",
        "\t\t\t\t weighting_scheme='inverse_distance',\n",
        "\t\t\t\t index_type='linear')\n",
        "\n",
        "builder.author = 'Core ML Tools Example'\n",
        "builder.license = 'MIT'\n",
        "builder.description = 'Classifies {} dimension vector based on 3 nearest neighbors'.format(number_of_dimensions)\n",
        "\n",
        "builder.spec.description.input[0].shortDescription = 'Input vector to classify'\n",
        "builder.spec.description.output[0].shortDescription = 'Predicted label. Defaults to \\'defaultLabel\\''\n",
        "builder.spec.description.output[1].shortDescription = 'Probabilities / score for each possible label.'\n",
        "\n",
        "builder.spec.description.trainingInput[0].shortDescription = 'Example input vector'\n",
        "builder.spec.description.trainingInput[1].shortDescription = 'Associated true label of each example vector'\n",
        "\n",
        "# Name of the model file\n",
        "mlmodel_updatable_path = './UpdatableKNN.mlmodel'\n",
        "\n",
        "# Save the updatable model\n",
        "from coremltools.models import MLModel\n",
        "mlmodel_updatable = MLModel(builder.spec)\n",
        "mlmodel_updatable.save(mlmodel_updatable_path)"
      ],
      "metadata": {
        "id": "iDj_aZIhLTjm"
      },
      "execution_count": null,
      "outputs": []
    }
  ]
}